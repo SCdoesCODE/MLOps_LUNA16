{
 "cells": [
  {
   "cell_type": "code",
   "execution_count": 5,
   "id": "4af5451c-fe00-4220-b948-af700a2c9ca2",
   "metadata": {},
   "outputs": [
    {
     "name": "stdout",
     "output_type": "stream",
     "text": [
      "--2024-12-21 16:32:29--  https://zenodo.org/record/3723295/files/subset0.zip\n",
      "Resolving zenodo.org (zenodo.org)... 188.185.45.92, 188.185.43.25, 188.185.48.194, ...\n",
      "connected. to zenodo.org (zenodo.org)|188.185.45.92|:443... \n",
      "HTTP request sent, awaiting response... 301 MOVED PERMANENTLY\n",
      "Location: /records/3723295/files/subset0.zip [following]\n",
      "--2024-12-21 16:32:30--  https://zenodo.org/records/3723295/files/subset0.zip\n",
      "Reusing existing connection to zenodo.org:443.\n",
      "200 OKequest sent, awaiting response... \n",
      "Length: 6811924508 (6.3G) [application/octet-stream]\n",
      "Saving to: ‘/home/ec2-user/luna16/subset0.zip’\n",
      "\n",
      "subset0.zip         100%[===================>]   6.34G  65.3MB/s    in 1m 44s  \n",
      "\n",
      "2024-12-21 16:34:14 (62.4 MB/s) - ‘/home/ec2-user/luna16/subset0.zip’ saved [6811924508/6811924508]\n",
      "\n"
     ]
    }
   ],
   "source": [
    "!wget -P /home/ec2-user/luna16 https://zenodo.org/record/3723295/files/subset0.zip"
   ]
  },
  {
   "cell_type": "code",
   "execution_count": 7,
   "id": "ca4849d3-4a9c-467e-9538-41f72a55efcb",
   "metadata": {},
   "outputs": [
    {
     "name": "stdout",
     "output_type": "stream",
     "text": [
      "Filesystem        Size  Used Avail Use% Mounted on\n",
      "devtmpfs          4.0M     0  4.0M   0% /dev\n",
      "tmpfs             453M     0  453M   0% /dev/shm\n",
      "tmpfs             181M  444K  181M   1% /run\n",
      "/dev/nvme0n1p1     27G  8.4G   19G  31% /\n",
      "tmpfs             453M     0  453M   0% /tmp\n",
      "/dev/nvme0n1p128   10M  1.3M  8.7M  13% /boot/efi\n",
      "tmpfs              91M     0   91M   0% /run/user/1000\n"
     ]
    }
   ],
   "source": [
    "#check available ec2 disk space\n",
    "!df -h"
   ]
  },
  {
   "cell_type": "code",
   "execution_count": null,
   "id": "c5792c69-57cc-42db-8041-a8ffe2030209",
   "metadata": {},
   "outputs": [],
   "source": [
    "#let´s try to unzip the file and see how much data we can afford to keep\n",
    "\n",
    "import zipfile\n",
    "import os\n",
    "\n",
    "# Specify the path to the ZIP file and extraction directory\n",
    "zip_file_path = '/home/ec2-user/luna16/subset0.zip'\n",
    "extract_to_path = '/home/ec2-user/luna16/subset0_unzipped'\n",
    "\n",
    "# Ensure the extraction directory exists\n",
    "os.makedirs(extract_to_path, exist_ok=True)\n",
    "\n",
    "# Open the ZIP file and extract its contents\n",
    "with zipfile.ZipFile(zip_file_path, 'r') as zip_ref:\n",
    "    zip_ref.extractall(extract_to_path)\n",
    "\n",
    "print(f\"Files extracted to {extract_to_path}\")"
   ]
  },
  {
   "cell_type": "code",
   "execution_count": null,
   "id": "4e5e7de9-d2a8-4a54-869d-96765e27ea95",
   "metadata": {},
   "outputs": [],
   "source": []
  }
 ],
 "metadata": {
  "kernelspec": {
   "display_name": "Python 3 (ipykernel)",
   "language": "python",
   "name": "python3"
  },
  "language_info": {
   "codemirror_mode": {
    "name": "ipython",
    "version": 3
   },
   "file_extension": ".py",
   "mimetype": "text/x-python",
   "name": "python",
   "nbconvert_exporter": "python",
   "pygments_lexer": "ipython3",
   "version": "3.9.20"
  }
 },
 "nbformat": 4,
 "nbformat_minor": 5
}
