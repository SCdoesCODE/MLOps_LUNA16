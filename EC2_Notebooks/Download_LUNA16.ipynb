{
 "cells": [
  {
   "cell_type": "code",
   "execution_count": 5,
   "id": "4af5451c-fe00-4220-b948-af700a2c9ca2",
   "metadata": {},
   "outputs": [
    {
     "name": "stdout",
     "output_type": "stream",
     "text": [
      "--2024-12-21 16:32:29--  https://zenodo.org/record/3723295/files/subset0.zip\n",
      "Resolving zenodo.org (zenodo.org)... 188.185.45.92, 188.185.43.25, 188.185.48.194, ...\n",
      "connected. to zenodo.org (zenodo.org)|188.185.45.92|:443... \n",
      "HTTP request sent, awaiting response... 301 MOVED PERMANENTLY\n",
      "Location: /records/3723295/files/subset0.zip [following]\n",
      "--2024-12-21 16:32:30--  https://zenodo.org/records/3723295/files/subset0.zip\n",
      "Reusing existing connection to zenodo.org:443.\n",
      "200 OKequest sent, awaiting response... \n",
      "Length: 6811924508 (6.3G) [application/octet-stream]\n",
      "Saving to: ‘/home/ec2-user/luna16/subset0.zip’\n",
      "\n",
      "subset0.zip         100%[===================>]   6.34G  65.3MB/s    in 1m 44s  \n",
      "\n",
      "2024-12-21 16:34:14 (62.4 MB/s) - ‘/home/ec2-user/luna16/subset0.zip’ saved [6811924508/6811924508]\n",
      "\n"
     ]
    }
   ],
   "source": [
    "!wget -P /home/ec2-user/luna16 https://zenodo.org/record/3723295/files/subset0.zip"
   ]
  },
  {
   "cell_type": "code",
   "execution_count": 1,
   "id": "ca4849d3-4a9c-467e-9538-41f72a55efcb",
   "metadata": {},
   "outputs": [
    {
     "name": "stdout",
     "output_type": "stream",
     "text": [
      "Filesystem        Size  Used Avail Use% Mounted on\n",
      "devtmpfs          4.0M     0  4.0M   0% /dev\n",
      "tmpfs             453M     0  453M   0% /dev/shm\n",
      "tmpfs             181M  440K  181M   1% /run\n",
      "/dev/nvme0n1p1     27G   20G  7.0G  75% /\n",
      "tmpfs             453M     0  453M   0% /tmp\n",
      "/dev/nvme0n1p128   10M  1.3M  8.7M  13% /boot/efi\n",
      "tmpfs              91M     0   91M   0% /run/user/1000\n"
     ]
    }
   ],
   "source": [
    "#check available ec2 disk space\n",
    "!df -h"
   ]
  },
  {
   "cell_type": "code",
   "execution_count": 8,
   "id": "c5792c69-57cc-42db-8041-a8ffe2030209",
   "metadata": {},
   "outputs": [
    {
     "name": "stdout",
     "output_type": "stream",
     "text": [
      "Files extracted to /home/ec2-user/luna16/subset0_unzipped\n"
     ]
    }
   ],
   "source": [
    "#let´s try to unzip the file and see how much data we can afford to keep\n",
    "\n",
    "import zipfile\n",
    "import os\n",
    "\n",
    "# Specify the path to the ZIP file and extraction directory\n",
    "zip_file_path = '/home/ec2-user/luna16/subset0.zip'\n",
    "extract_to_path = '/home/ec2-user/luna16/subset0_unzipped'\n",
    "\n",
    "# Ensure the extraction directory exists\n",
    "os.makedirs(extract_to_path, exist_ok=True)\n",
    "\n",
    "# Open the ZIP file and extract its contents\n",
    "with zipfile.ZipFile(zip_file_path, 'r') as zip_ref:\n",
    "    zip_ref.extractall(extract_to_path)\n",
    "\n",
    "print(f\"Files extracted to {extract_to_path}\")"
   ]
  },
  {
   "cell_type": "code",
   "execution_count": 9,
   "id": "4e5e7de9-d2a8-4a54-869d-96765e27ea95",
   "metadata": {},
   "outputs": [
    {
     "name": "stdout",
     "output_type": "stream",
     "text": [
      "12G\t/home/ec2-user/luna16/subset0_unzipped\n"
     ]
    }
   ],
   "source": [
    "#Let´s see how big the directory is\n",
    "\n",
    "!du -sh /home/ec2-user/luna16/subset0_unzipped"
   ]
  },
  {
   "cell_type": "code",
   "execution_count": null,
   "id": "77294fee-8334-495a-9547-363eb9fd41d5",
   "metadata": {},
   "outputs": [],
   "source": [
    "#Alright so seems like it´s compressed to be 50% smaller zipped, good for us, within the budget of 30GB\n",
    "#Let´s list the contents of this folder\n",
    "\n",
    "!ls -Rl /home/ec2-user/luna16/subset0_unzipped | head -n 10"
   ]
  },
  {
   "cell_type": "code",
   "execution_count": null,
   "id": "32fbb290-d2de-46e1-bb5f-ca40a47291d8",
   "metadata": {},
   "outputs": [],
   "source": [
    "#So it contains mhd and raw files\n",
    "#The mhd file contains metadata information about it´s corresponding raw file which contains the actual image data\n",
    "#The mhd file is a text-file and is needed to correctly interpret the raw file which is in binary"
   ]
  },
  {
   "cell_type": "code",
   "execution_count": 15,
   "id": "e8eaf0f6-c2b2-4cf6-8544-44490792a52d",
   "metadata": {},
   "outputs": [
    {
     "name": "stdout",
     "output_type": "stream",
     "text": [
      "Defaulting to user installation because normal site-packages is not writeable\n",
      "Collecting SimpleITK\n",
      "  Downloading SimpleITK-2.4.0-cp39-cp39-manylinux_2_17_x86_64.manylinux2014_x86_64.whl (52.4 MB)\n",
      "     |████████████████████████████████| 52.4 MB 273 kB/s              \n",
      "\u001b[?25hInstalling collected packages: SimpleITK\n",
      "Successfully installed SimpleITK-2.4.0\n"
     ]
    }
   ],
   "source": [
    "!pip3 install SimpleITK"
   ]
  },
  {
   "cell_type": "code",
   "execution_count": 17,
   "id": "369f4b25-2ab7-42da-8c48-93e5bf7ec368",
   "metadata": {},
   "outputs": [
    {
     "name": "stdout",
     "output_type": "stream",
     "text": [
      "Defaulting to user installation because normal site-packages is not writeable\n",
      "Collecting matplotlib\n",
      "  Downloading matplotlib-3.9.4-cp39-cp39-manylinux_2_17_x86_64.manylinux2014_x86_64.whl (8.3 MB)\n",
      "     |████████████████████████████████| 8.3 MB 6.0 MB/s            \n",
      "\u001b[?25hCollecting importlib-resources>=3.2.0\n",
      "  Downloading importlib_resources-6.4.5-py3-none-any.whl (36 kB)\n",
      "Requirement already satisfied: packaging>=20.0 in ./.local/lib/python3.9/site-packages (from matplotlib) (24.2)\n",
      "Collecting pillow>=8\n",
      "  Downloading pillow-11.0.0-cp39-cp39-manylinux_2_28_x86_64.whl (4.4 MB)\n",
      "     |████████████████████████████████| 4.4 MB 69.7 MB/s            \n",
      "\u001b[?25hCollecting cycler>=0.10\n",
      "  Downloading cycler-0.12.1-py3-none-any.whl (8.3 kB)\n",
      "Collecting kiwisolver>=1.3.1\n",
      "  Downloading kiwisolver-1.4.7-cp39-cp39-manylinux_2_12_x86_64.manylinux2010_x86_64.whl (1.6 MB)\n",
      "     |████████████████████████████████| 1.6 MB 66.6 MB/s            \n",
      "\u001b[?25hCollecting fonttools>=4.22.0\n",
      "  Downloading fonttools-4.55.3-cp39-cp39-manylinux_2_17_x86_64.manylinux2014_x86_64.whl (4.6 MB)\n",
      "     |████████████████████████████████| 4.6 MB 81.0 MB/s            \n",
      "\u001b[?25hCollecting numpy>=1.23\n",
      "  Downloading numpy-2.0.2-cp39-cp39-manylinux_2_17_x86_64.manylinux2014_x86_64.whl (19.5 MB)\n",
      "     |████████████████████████████████| 19.5 MB 86.7 MB/s            \n",
      "\u001b[?25hRequirement already satisfied: python-dateutil>=2.7 in ./.local/lib/python3.9/site-packages (from matplotlib) (2.9.0.post0)\n",
      "Collecting contourpy>=1.0.1\n",
      "  Downloading contourpy-1.3.0-cp39-cp39-manylinux_2_17_x86_64.manylinux2014_x86_64.whl (321 kB)\n",
      "     |████████████████████████████████| 321 kB 75.4 MB/s            \n",
      "\u001b[?25hCollecting pyparsing>=2.3.1\n",
      "  Downloading pyparsing-3.2.0-py3-none-any.whl (106 kB)\n",
      "     |████████████████████████████████| 106 kB 89.7 MB/s            \n",
      "\u001b[?25hRequirement already satisfied: zipp>=3.1.0 in ./.local/lib/python3.9/site-packages (from importlib-resources>=3.2.0->matplotlib) (3.21.0)\n",
      "Requirement already satisfied: six>=1.5 in /usr/lib/python3.9/site-packages (from python-dateutil>=2.7->matplotlib) (1.15.0)\n",
      "Installing collected packages: numpy, pyparsing, pillow, kiwisolver, importlib-resources, fonttools, cycler, contourpy, matplotlib\n",
      "Successfully installed contourpy-1.3.0 cycler-0.12.1 fonttools-4.55.3 importlib-resources-6.4.5 kiwisolver-1.4.7 matplotlib-3.9.4 numpy-2.0.2 pillow-11.0.0 pyparsing-3.2.0\n"
     ]
    }
   ],
   "source": [
    "!pip3 install matplotlib"
   ]
  }
 ],
 "metadata": {
  "kernelspec": {
   "display_name": "Python 3 (ipykernel)",
   "language": "python",
   "name": "python3"
  },
  "language_info": {
   "codemirror_mode": {
    "name": "ipython",
    "version": 3
   },
   "file_extension": ".py",
   "mimetype": "text/x-python",
   "name": "python",
   "nbconvert_exporter": "python",
   "pygments_lexer": "ipython3",
   "version": "3.9.20"
  }
 },
 "nbformat": 4,
 "nbformat_minor": 5
}
