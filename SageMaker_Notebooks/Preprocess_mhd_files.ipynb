{
 "cells": [
  {
   "cell_type": "markdown",
   "id": "d07a5eca-f07d-4465-8e95-b2b382774fab",
   "metadata": {},
   "source": [
    "I tried to just load the mhd files directly before doing any preprocessing, but then the kernel died after 21 images loaded, so I will be doing preprocessing directly after loading the image and then saving that smaller array. When printing the shape of the ct scans I could also see that each slize was 512*512 but that a different number of slices was used for each ct scan, from 100 to 500, so it could differ quite a lot. I don´t know if the slice number has a certain significance. Looking at this article: https://soundvet.com/portable-ct/understanding-ct-scanner-specifications-slice-count-scan-speed-and-cost-efficiency/ it seems like a whole ct scanner might be set to a certain number of slices, but maybe there are scanners where you can adjust the number of slices? According to this article: https://lbnmedical.com/ct-scan-slice-types/ a CT scanner takes 4 - 640 slices. According to the article it seems like our ct scans with over 100 slices are very detailed, have very high image quality and have been taken with expensive machines - alright. I´m still a bit confused about the irregular number of slices, I would expect powers of 2, maybe 128,256 etc but I´m seeing 204, 157, 139 etc - maybe I´ll figure that one out later. "
   ]
  },
  {
   "cell_type": "code",
   "execution_count": null,
   "id": "560aef2b-4eb6-4d6a-bbd5-c106ce81d299",
   "metadata": {
    "tags": []
   },
   "outputs": [
    {
     "name": "stdout",
     "output_type": "stream",
     "text": [
      "(204, 512, 512)\n",
      "(157, 512, 512)\n",
      "(139, 512, 512)\n",
      "(133, 512, 512)\n",
      "(246, 512, 512)\n",
      "(265, 512, 512)\n",
      "(133, 512, 512)\n",
      "(157, 512, 512)\n",
      "(139, 512, 512)\n",
      "(245, 512, 512)\n",
      "(133, 512, 512)\n",
      "(133, 512, 512)\n",
      "(588, 512, 512)\n",
      "(119, 512, 512)\n",
      "(123, 512, 512)\n",
      "(183, 512, 512)\n",
      "(232, 512, 512)\n",
      "(672, 512, 512)\n",
      "(121, 512, 512)\n",
      "(151, 512, 512)\n",
      "(280, 512, 512)\n",
      "(483, 512, 512)\n",
      "(280, 512, 512)\n",
      "(127, 512, 512)\n",
      "(140, 512, 512)\n",
      "(129, 512, 512)\n",
      "(124, 512, 512)\n"
     ]
    }
   ],
   "source": [
    "#SimpleITK helps us load the mhd files into numpy arrays\n",
    "\n",
    "import SimpleITK as sitk\n",
    "import numpy as np\n",
    "import glob\n",
    "import os\n",
    "\n",
    "local_path = '/home/ec2-user/SageMaker/images/'\n",
    "\n",
    "def load_mhd_file(file_path):\n",
    "    # Read the MHD file using SimpleITK\n",
    "    image = sitk.ReadImage(file_path)\n",
    "    \n",
    "    # Convert it to a NumPy array (H x W x D)\n",
    "    image_array = sitk.GetArrayFromImage(image)\n",
    "    \n",
    "    print(image_array.shape)\n",
    "    \n",
    "    return image_array\n",
    "\n",
    "image_arrays = []\n",
    "for filename in glob.glob(os.path.join(local_path, '*.mhd')):\n",
    "    image_data = load_mhd_file(filename)\n",
    "    image_arrays.append(image_data)\n",
    "\n",
    "print(image_arrays)\n",
    "\n",
    "# Check the shape of the loaded image (should be 3D)\n",
    "#print(image_arrays[0].shape)"
   ]
  },
  {
   "cell_type": "code",
   "execution_count": null,
   "id": "e9b82ffc-10cb-4dbc-89b4-c92b7e82bd68",
   "metadata": {},
   "outputs": [],
   "source": []
  }
 ],
 "metadata": {
  "kernelspec": {
   "display_name": "conda_tensorflow2_p310",
   "language": "python",
   "name": "conda_tensorflow2_p310"
  },
  "language_info": {
   "codemirror_mode": {
    "name": "ipython",
    "version": 3
   },
   "file_extension": ".py",
   "mimetype": "text/x-python",
   "name": "python",
   "nbconvert_exporter": "python",
   "pygments_lexer": "ipython3",
   "version": "3.10.15"
  }
 },
 "nbformat": 4,
 "nbformat_minor": 5
}
