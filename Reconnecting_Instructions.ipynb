{
 "cells": [
  {
   "cell_type": "markdown",
   "metadata": {},
   "source": [
    "## Day 2 of the project\n",
    "\n",
    "So we now want to reconnect to the instance since we have existed it\n",
    "\n",
    "ssh -i \"{name_of_my_ec2_key}.pem\" ec2-user@{PUBLIC_IP}\n",
    "\n",
    "## If you encounter issues with connecting to your EC2 instance\n",
    "\n",
    "- make sure it doesn´t have to do with the public ip changing, if you e.g. rebooted your instance it could´ve changed so use the most recent one\n",
    "- you may also need to edit your \"security group inbound rule\". Find the security groups section associated with your ec2 instance and edit the inbound rules. Set type to SSH, port to 22 and and in the source add your IP followed by a /32 to limit access only to your specific IP. To find your IP :  in the terminal do \"curl ifconfig.me\". If this doesn´t work - you can try setting it to \"My IP\".  \n",
    "\n",
    "Now try to SSH in again\n",
    "\n",
    "## Accessing the jupyter notebook\n",
    "\n",
    "In the terminal: \"jupyter notebook\" \n",
    "\n",
    "## Create the SSH tunnel again from the notebooks port to our local machine\n",
    "\n",
    "In a different terminal window: ssh -i \"my_ec2_key.pem\" -L 8888:localhost:8888 ec2-user@{PUBLIC_IP}\n",
    "\n",
    "Now we can open one of the localhost links that were listed when we ran \"jupyter notebook\""
   ]
  }
 ],
 "metadata": {
  "language_info": {
   "name": "python"
  }
 },
 "nbformat": 4,
 "nbformat_minor": 2
}
